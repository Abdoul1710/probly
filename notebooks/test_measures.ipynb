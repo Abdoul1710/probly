{
 "cells": [
  {
   "cell_type": "code",
   "id": "initial_id",
   "metadata": {
    "collapsed": true,
    "ExecuteTime": {
     "end_time": "2025-02-20T17:05:48.471120Z",
     "start_time": "2025-02-20T17:05:48.466942Z"
    }
   },
   "source": [
    "import numpy as np\n",
    "from src.probly.measures.distributions import total_uncertainty_entropy, aleatoric_uncertainty_entropy, epistemic_uncertainty_entropy\n",
    "from sklearn.ensemble import RandomForestClassifier\n",
    "from sklearn.model_selection import train_test_split\n",
    "from sklearn.datasets import fetch_covtype"
   ],
   "outputs": [],
   "execution_count": 48
  },
  {
   "metadata": {
    "ExecuteTime": {
     "end_time": "2025-02-20T17:05:55.040181Z",
     "start_time": "2025-02-20T17:05:50.910583Z"
    }
   },
   "cell_type": "code",
   "source": [
    "X, y = fetch_covtype(return_X_y=True)\n",
    "y = y - 1\n",
    "X_train, X_test, y_train, y_test = train_test_split(X, y, test_size=0.3)\n",
    "rf = RandomForestClassifier(n_estimators=20, max_depth=5)\n",
    "rf.fit(X_train, y_train)\n",
    "probs = [t.predict_proba(X_test) for t in rf.estimators_]\n",
    "probs = np.array(probs).swapaxes(0, 1)\n",
    "print(probs.shape)"
   ],
   "id": "c9433545293455e",
   "outputs": [
    {
     "name": "stdout",
     "output_type": "stream",
     "text": [
      "(174304, 20, 7)\n"
     ]
    }
   ],
   "execution_count": 49
  },
  {
   "metadata": {
    "ExecuteTime": {
     "end_time": "2025-02-20T17:05:55.882801Z",
     "start_time": "2025-02-20T17:05:55.044421Z"
    }
   },
   "cell_type": "code",
   "source": [
    "tu = total_uncertainty_entropy(probs)\n",
    "au = aleatoric_uncertainty_entropy(probs)\n",
    "eu = epistemic_uncertainty_entropy(probs)\n",
    "print(np.all(np.isclose(tu, au + eu)))"
   ],
   "id": "375d3d6898a0d5c9",
   "outputs": [
    {
     "name": "stdout",
     "output_type": "stream",
     "text": [
      "True\n"
     ]
    }
   ],
   "execution_count": 50
  },
  {
   "metadata": {},
   "cell_type": "code",
   "outputs": [],
   "execution_count": null,
   "source": "",
   "id": "f1c807d6efec6684"
  }
 ],
 "metadata": {
  "kernelspec": {
   "display_name": "Python 3",
   "language": "python",
   "name": "python3"
  },
  "language_info": {
   "codemirror_mode": {
    "name": "ipython",
    "version": 2
   },
   "file_extension": ".py",
   "mimetype": "text/x-python",
   "name": "python",
   "nbconvert_exporter": "python",
   "pygments_lexer": "ipython2",
   "version": "2.7.6"
  }
 },
 "nbformat": 4,
 "nbformat_minor": 5
}
