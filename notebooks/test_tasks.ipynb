{
 "cells": [
  {
   "cell_type": "code",
   "execution_count": 1,
   "id": "initial_id",
   "metadata": {
    "ExecuteTime": {
     "end_time": "2025-03-10T09:40:49.378105Z",
     "start_time": "2025-03-10T09:40:47.630874Z"
    },
    "collapsed": true
   },
   "outputs": [
    {
     "name": "stderr",
     "output_type": "stream",
     "text": [
      "/Users/paulhofman/Library/Python/3.9/lib/python/site-packages/urllib3/__init__.py:35: NotOpenSSLWarning: urllib3 v2 only supports OpenSSL 1.1.1+, currently the 'ssl' module is compiled with 'LibreSSL 2.8.3'. See: https://github.com/urllib3/urllib3/issues/3020\n",
      "  warnings.warn(\n"
     ]
    }
   ],
   "source": [
    "%load_ext autoreload\n",
    "%autoreload 2\n",
    "import torch\n",
    "import torch.nn as nn\n",
    "import torchvision\n",
    "import torchvision.transforms as T\n",
    "import torch.optim as optim\n",
    "from src.probly.representation.dropout import Dropout\n",
    "from torch.utils.data import DataLoader\n",
    "from tqdm import tqdm\n",
    "from src.probly.tasks import selective_prediction, out_of_distribution_detection\n",
    "import matplotlib.pyplot as plt\n",
    "import torch.nn.functional as F\n",
    "from src.probly.measures.distributions import total_uncertainty_entropy, epistemic_uncertainty_entropy"
   ]
  },
  {
   "cell_type": "code",
   "execution_count": 2,
   "id": "93bd3e1e5dbfacfe",
   "metadata": {
    "ExecuteTime": {
     "end_time": "2025-03-10T09:40:49.445772Z",
     "start_time": "2025-03-10T09:40:49.384345Z"
    }
   },
   "outputs": [
    {
     "name": "stdout",
     "output_type": "stream",
     "text": [
      "Using device cpu\n"
     ]
    }
   ],
   "source": [
    "if torch.cuda.is_available():\n",
    "    device = torch.device('cuda')\n",
    "elif torch.backends.mps.is_available():\n",
    "    device = torch.device('mps')\n",
    "else:\n",
    "    device = torch.device('cpu')\n",
    "device = torch.device('cpu')\n",
    "print(f'Using device {device}')\n",
    "transforms = T.Compose([T.ToTensor(), torch.flatten])\n",
    "\n",
    "train = torchvision.datasets.FashionMNIST(root='~/datasets/', train=True, download=True, transform=transforms)\n",
    "test = torchvision.datasets.FashionMNIST(root='~/datasets/', train=False, download=True, transform=transforms)\n",
    "train_loader = DataLoader(train, batch_size=256, shuffle=True)\n",
    "test_loader = DataLoader(test, batch_size=256, shuffle=False)\n",
    "\n",
    "ood = torchvision.datasets.MNIST(root='~/datasets/', train=False, download=True, transform=transforms)\n",
    "ood_loader = DataLoader(ood, batch_size=256, shuffle=False)\n",
    "\n",
    "# small fully connected neural network\n",
    "class Net(nn.Module):\n",
    "    def __init__(self):\n",
    "        super(Net, self).__init__()\n",
    "        self.fc1 = nn.Linear(784, 100)\n",
    "        self.fc2 = nn.Linear(100, 100)\n",
    "        self.fc3 = nn.Linear(100, 10)\n",
    "        self.act = nn.ReLU()\n",
    "\n",
    "    def forward(self, x):\n",
    "        x = self.act(self.fc1(x))\n",
    "        x = self.act(self.fc2(x))\n",
    "        x = self.fc3(x)\n",
    "        return x\n",
    "\n",
    "net = Net().to(device)"
   ]
  },
  {
   "cell_type": "code",
   "execution_count": 3,
   "id": "3c5a33753ec0592",
   "metadata": {
    "ExecuteTime": {
     "end_time": "2025-03-10T09:41:31.859660Z",
     "start_time": "2025-03-10T09:40:49.484420Z"
    }
   },
   "outputs": [
    {
     "name": "stdout",
     "output_type": "stream",
     "text": [
      "[Linear(in_features=784, out_features=100, bias=True), Dropout(p=0.5, inplace=False), Linear(in_features=100, out_features=100, bias=True), Dropout(p=0.5, inplace=False), Linear(in_features=100, out_features=10, bias=True), ReLU()]\n"
     ]
    },
    {
     "name": "stderr",
     "output_type": "stream",
     "text": [
      "100%|██████████| 20/20 [00:37<00:00,  1.88s/it]\n"
     ]
    },
    {
     "name": "stdout",
     "output_type": "stream",
     "text": [
      "Accuracy: 0.8148\n"
     ]
    }
   ],
   "source": [
    "model = Dropout(net, 0.5)\n",
    "print([child for child in model.model.children()])\n",
    "optimizer = optim.SGD(model.parameters(), lr=0.01)\n",
    "criterion = nn.CrossEntropyLoss()\n",
    "for _ in tqdm(range(20)):\n",
    "    model.train()\n",
    "    for x, y in train_loader:\n",
    "        optimizer.zero_grad()\n",
    "        y_pred = model(x, 1)\n",
    "        y_pred = torch.squeeze(y_pred)\n",
    "        loss = criterion(y_pred, y)\n",
    "        loss.backward()\n",
    "        optimizer.step()\n",
    "# compute accuracy on test set\n",
    "correct = 0\n",
    "total = 0\n",
    "model.eval()\n",
    "for x, y in test_loader:\n",
    "    y_pred = model(x, 100)\n",
    "    y_pred = model(x, 100).mean(axis=1)\n",
    "    y_pred = y_pred.argmax(axis=1)\n",
    "    correct += (y_pred == y).sum().item()\n",
    "    total += y.size(0)\n",
    "print(f\"Accuracy: {correct / total}\")"
   ]
  },
  {
   "cell_type": "code",
   "execution_count": 7,
   "id": "1b4c976024d7e74f",
   "metadata": {
    "ExecuteTime": {
     "end_time": "2025-03-10T09:42:09.997199Z",
     "start_time": "2025-03-10T09:42:08.407427Z"
    }
   },
   "outputs": [
    {
     "name": "stdout",
     "output_type": "stream",
     "text": [
      "tensor([7.3557e-04, 1.7512e-03, 3.0648e-03, 8.4829e-04, 7.9379e-04, 7.5064e-05,\n",
      "        7.2889e-05, 1.9384e-05, 1.9654e-03, 1.1435e-04, 4.7033e-04, 2.0998e-03,\n",
      "        1.4674e-03, 1.4668e-03, 5.7652e-03, 1.3752e-03, 4.0437e-04, 3.5987e-04,\n",
      "        1.2210e-03, 6.1796e-03])\n",
      "(10000, 20, 10)\n",
      "(10000, 20, 10)\n",
      "AUROC: 0.8398617299999999\n"
     ]
    }
   ],
   "source": [
    "@torch.no_grad()\n",
    "def torch_get_outputs(model, loader, device):\n",
    "    model = model.to(device)\n",
    "    outputs = torch.empty(0, device=device)\n",
    "    targets = torch.empty(0, device=device)\n",
    "    for input, target in loader:\n",
    "        input, target = input.to(device), target.to(device)\n",
    "        targets = torch.cat((targets, target), dim=0)\n",
    "        outputs = torch.cat((outputs, model(input, 20)), dim=0)\n",
    "    return outputs, targets\n",
    "\n",
    "preds_test, targets_test = torch_get_outputs(model, test_loader, device)\n",
    "preds_ood, _ = torch_get_outputs(model, ood_loader, device)\n",
    "preds_test = F.softmax(preds_test, dim=2)\n",
    "print(preds_test[0,:,0])\n",
    "preds_ood = F.softmax(preds_ood, dim=2)\n",
    "unc_test = epistemic_uncertainty_entropy(preds_test)\n",
    "unc_ood = epistemic_uncertainty_entropy(preds_ood)\n",
    "auroc = out_of_distribution_detection(unc_test, unc_ood)\n",
    "print(f'AUROC: {auroc}')"
   ]
  },
  {
   "cell_type": "code",
   "execution_count": 20,
   "id": "9e98dc69b1d64788",
   "metadata": {
    "ExecuteTime": {
     "end_time": "2025-03-10T09:47:51.625176Z",
     "start_time": "2025-03-10T09:47:51.465736Z"
    }
   },
   "outputs": [
    {
     "name": "stdout",
     "output_type": "stream",
     "text": [
      "AUROC: 0.05813101462178149\n"
     ]
    },
    {
     "data": {
      "image/png": "[encoded data removed]",
      "text/plain": [
       "<Figure size 640x480 with 1 Axes>"
      ]
     },
     "metadata": {},
     "output_type": "display_data"
    }
   ],
   "source": [
    "tot_unc_test = total_uncertainty_entropy(preds_test)\n",
    "# zero-one-loss\n",
    "loss = (preds_test.mean(axis=1).argmax(axis=1) != targets_test).int().cpu().numpy()\n",
    "auroc, bins = selective_prediction(tot_unc_test, loss)\n",
    "print(f'AUROC: {auroc}')\n",
    "plt.plot(bins)\n",
    "plt.show()"
   ]
  },
  {
   "cell_type": "code",
   "execution_count": null,
   "id": "cbef72cf766da694",
   "metadata": {},
   "outputs": [],
   "source": []
  }
 ],
 "metadata": {
  "kernelspec": {
   "display_name": "Python 3",
   "language": "python",
   "name": "python3"
  },
  "language_info": {
   "codemirror_mode": {
    "name": "ipython",
    "version": 2
   },
   "file_extension": ".py",
   "mimetype": "text/x-python",
   "name": "python",
   "nbconvert_exporter": "python",
   "pygments_lexer": "ipython2",
   "version": "2.7.6"
  }
 },
 "nbformat": 4,
 "nbformat_minor": 5
}
