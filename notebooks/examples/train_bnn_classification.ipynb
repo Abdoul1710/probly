{
 "cells": [
  {
   "cell_type": "code",
   "execution_count": 83,
   "id": "initial_id",
   "metadata": {
    "ExecuteTime": {
     "end_time": "2025-03-29T11:27:34.210261Z",
     "start_time": "2025-03-29T11:27:34.100671Z"
    },
    "collapsed": true
   },
   "outputs": [
    {
     "name": "stdout",
     "output_type": "stream",
     "text": [
      "The autoreload extension is already loaded. To reload it, use:\n",
      "  %reload_ext autoreload\n"
     ]
    }
   ],
   "source": [
    "%load_ext autoreload\n",
    "%autoreload 2\n",
    "import torch\n",
    "import torch.nn as nn\n",
    "import torch.optim as optim\n",
    "import torchvision\n",
    "import torchvision.transforms as T\n",
    "from torch.utils.data import DataLoader\n",
    "from tqdm import tqdm\n",
    "\n",
    "from probly.representation import Bayesian"
   ]
  },
  {
   "cell_type": "code",
   "execution_count": 84,
   "id": "d9b97c61949181bd",
   "metadata": {
    "ExecuteTime": {
     "end_time": "2025-03-29T11:27:34.320278Z",
     "start_time": "2025-03-29T11:27:34.282093Z"
    }
   },
   "outputs": [],
   "source": [
    "transforms = T.Compose([T.ToTensor(), torch.flatten])\n",
    "train = torchvision.datasets.FashionMNIST(root='~/datasets', train=True, download=True, transform=transforms)\n",
    "test = torchvision.datasets.FashionMNIST(root='~/datasets', train=False, download=True, transform=transforms)\n",
    "train_loader = DataLoader(train, batch_size=256, shuffle=True)\n",
    "test_loader = DataLoader(test, batch_size=256, shuffle=False)"
   ]
  },
  {
   "cell_type": "code",
   "execution_count": 85,
   "id": "9a7d8ddf4df41011",
   "metadata": {
    "ExecuteTime": {
     "end_time": "2025-03-29T11:27:34.344017Z",
     "start_time": "2025-03-29T11:27:34.324432Z"
    }
   },
   "outputs": [],
   "source": [
    "class Net(nn.Module):\n",
    "    def __init__(self):\n",
    "        super().__init__()\n",
    "        self.fc1 = nn.Linear(784, 100)\n",
    "        self.fc2 = nn.Linear(100, 100)\n",
    "        self.fc3 = nn.Linear(100, 10)\n",
    "        self.act = nn.ReLU()\n",
    "\n",
    "    def forward(self, x):\n",
    "        x = self.act(self.fc1(x))\n",
    "        x = self.act(self.fc2(x))\n",
    "        x = self.fc3(x)\n",
    "        return x\n",
    "\n",
    "net = Net()\n",
    "model = Bayesian(net)"
   ]
  },
  {
   "cell_type": "code",
   "execution_count": 86,
   "id": "c6767549162afd06",
   "metadata": {
    "ExecuteTime": {
     "end_time": "2025-03-29T11:28:35.140109Z",
     "start_time": "2025-03-29T11:27:34.366147Z"
    }
   },
   "outputs": [
    {
     "name": "stderr",
     "output_type": "stream",
     "text": [
      "  5%|▌         | 1/20 [00:02<00:54,  2.86s/it]"
     ]
    },
    {
     "name": "stdout",
     "output_type": "stream",
     "text": [
      "tensor(205859.6406, grad_fn=<AddBackward0>)\n",
      "Epoch 1, Running loss: 23.293643886484997\n"
     ]
    },
    {
     "name": "stderr",
     "output_type": "stream",
     "text": [
      " 10%|█         | 2/20 [00:05<00:51,  2.84s/it]"
     ]
    },
    {
     "name": "stdout",
     "output_type": "stream",
     "text": [
      "tensor(189104.7344, grad_fn=<AddBackward0>)\n",
      "Epoch 2, Running loss: 20.762263724144468\n"
     ]
    },
    {
     "name": "stderr",
     "output_type": "stream",
     "text": [
      " 15%|█▌        | 3/20 [00:08<00:50,  2.97s/it]"
     ]
    },
    {
     "name": "stdout",
     "output_type": "stream",
     "text": [
      "tensor(173067.7969, grad_fn=<AddBackward0>)\n",
      "Epoch 3, Running loss: 18.840434362533244\n"
     ]
    },
    {
     "name": "stderr",
     "output_type": "stream",
     "text": [
      " 20%|██        | 4/20 [00:11<00:48,  3.02s/it]"
     ]
    },
    {
     "name": "stdout",
     "output_type": "stream",
     "text": [
      "tensor(157825.2656, grad_fn=<AddBackward0>)\n",
      "Epoch 4, Running loss: 17.14894571507231\n"
     ]
    },
    {
     "name": "stderr",
     "output_type": "stream",
     "text": [
      "100%|██████████| 20/20 [01:00<00:00,  3.02s/it]"
     ]
    },
    {
     "name": "stdout",
     "output_type": "stream",
     "text": [
      "tensor(34708.5508, grad_fn=<AddBackward0>)\n",
      "Epoch 20, Running loss: 4.127033773381659\n"
     ]
    },
    {
     "name": "stderr",
     "output_type": "stream",
     "text": [
      "\n"
     ]
    },
    {
     "name": "stdout",
     "output_type": "stream",
     "text": [
      "Accuracy: 0.8012999892234802\n"
     ]
    }
   ],
   "source": [
    "epochs = 20\n",
    "optimizer = optim.Adam(model.parameters())\n",
    "criterion = nn.CrossEntropyLoss()\n",
    "lmbda = 1e-4\n",
    "for epoch in tqdm(range(epochs)):\n",
    "    model.train()\n",
    "    running_loss = 0.0\n",
    "    for inputs, targets in train_loader:\n",
    "        optimizer.zero_grad()\n",
    "        outputs = model(inputs)\n",
    "        loss = criterion(outputs, targets) + lmbda * model.kl_divergence\n",
    "        loss.backward()\n",
    "        optimizer.step()\n",
    "        running_loss += loss.item()\n",
    "    print(model.kl_divergence)\n",
    "    print(f\"Epoch {epoch + 1}, Running loss: {running_loss / len(train_loader)}\")\n",
    "\n",
    "# compute accuracy on test set\n",
    "correct = 0\n",
    "total = 0\n",
    "model.eval()\n",
    "for inputs, targets in test_loader:\n",
    "    outputs = model(inputs)\n",
    "    correct += (outputs.argmax(1) == targets).sum()\n",
    "    total += targets.size(0)\n",
    "print(f\"Accuracy: {correct / total}\")"
   ]
  },
  {
   "cell_type": "code",
   "id": "ed223719f56ed8c6",
   "metadata": {
    "ExecuteTime": {
     "end_time": "2025-03-29T11:28:35.416010Z",
     "start_time": "2025-03-29T11:28:35.170940Z"
    }
   },
   "source": [
    "posterior_std = 0.05\n",
    "torch.log(torch.exp(torch.tensor(posterior_std)) - 1)"
   ],
   "outputs": [
    {
     "data": {
      "text/plain": [
       "tensor(-2.9706)"
      ]
     },
     "execution_count": 87,
     "metadata": {},
     "output_type": "execute_result"
    }
   ],
   "execution_count": 87
  },
  {
   "cell_type": "code",
   "id": "269891ca70e3869e",
   "metadata": {
    "ExecuteTime": {
     "end_time": "2025-03-29T11:28:35.430107Z",
     "start_time": "2025-03-29T11:28:35.428571Z"
    }
   },
   "source": [],
   "outputs": [],
   "execution_count": null
  }
 ],
 "metadata": {
  "kernelspec": {
   "display_name": "Python 3",
   "language": "python",
   "name": "python3"
  },
  "language_info": {
   "codemirror_mode": {
    "name": "ipython",
    "version": 2
   },
   "file_extension": ".py",
   "mimetype": "text/x-python",
   "name": "python",
   "nbconvert_exporter": "python",
   "pygments_lexer": "ipython2",
   "version": "2.7.6"
  }
 },
 "nbformat": 4,
 "nbformat_minor": 5
}
